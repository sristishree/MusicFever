{
 "cells": [
  {
   "cell_type": "code",
   "execution_count": 198,
   "metadata": {},
   "outputs": [],
   "source": [
    "import pandas as pd"
   ]
  },
  {
   "cell_type": "code",
   "execution_count": 204,
   "metadata": {},
   "outputs": [],
   "source": [
    "df = pd.read_excel(\"Audience_Cards_List.xlsx\")"
   ]
  },
  {
   "cell_type": "markdown",
   "metadata": {},
   "source": [
    "### Preprocessing"
   ]
  },
  {
   "cell_type": "code",
   "execution_count": 205,
   "metadata": {},
   "outputs": [
    {
     "name": "stdout",
     "output_type": "stream",
     "text": [
      "<class 'pandas.core.frame.DataFrame'>\n",
      "RangeIndex: 45 entries, 0 to 44\n",
      "Data columns (total 6 columns):\n",
      " #   Column                Non-Null Count  Dtype \n",
      "---  ------                --------------  ----- \n",
      " 0   Audience Expectation  45 non-null     object\n",
      " 1   Attraction Category   45 non-null     object\n",
      " 2   Sub category          45 non-null     object\n",
      " 3   Increase              35 non-null     object\n",
      " 4   Decrease              26 non-null     object\n",
      " 5   Note                  9 non-null      object\n",
      "dtypes: object(6)\n",
      "memory usage: 2.2+ KB\n"
     ]
    }
   ],
   "source": [
    "df.info()"
   ]
  },
  {
   "cell_type": "code",
   "execution_count": 206,
   "metadata": {},
   "outputs": [],
   "source": [
    "# Remove rows that have to be removed in the new edition\n",
    "df = df[df['Note'] != 'Remove']"
   ]
  },
  {
   "cell_type": "code",
   "execution_count": 207,
   "metadata": {},
   "outputs": [
    {
     "name": "stdout",
     "output_type": "stream",
     "text": [
      "Audience Expectation     0\n",
      "Attraction Category      0\n",
      "Sub category             0\n",
      "Increase                 9\n",
      "Decrease                19\n",
      "Note                    36\n",
      "dtype: int64\n"
     ]
    }
   ],
   "source": [
    "print(df.isnull().sum())"
   ]
  },
  {
   "cell_type": "code",
   "execution_count": 208,
   "metadata": {},
   "outputs": [],
   "source": [
    "df['Increase'] = df['Increase'].fillna('')\n",
    "df['Decrease'] = df['Decrease'].fillna('')"
   ]
  },
  {
   "cell_type": "markdown",
   "metadata": {},
   "source": [
    "### Defining Categories"
   ]
  },
  {
   "cell_type": "code",
   "execution_count": 209,
   "metadata": {},
   "outputs": [],
   "source": [
    "categorical_columns = [\n",
    "    'Continental',\n",
    "    'Lebanese',\n",
    "    'Indian',\n",
    "    'Chinese',\n",
    "    'Alcohol',\n",
    "    'Soft drinks',\n",
    "    'Clothes',\n",
    "    'Action figure',\n",
    "    'VIP',\n",
    "    'Gold',\n",
    "    'Premium'\n",
    "]"
   ]
  },
  {
   "cell_type": "code",
   "execution_count": 210,
   "metadata": {},
   "outputs": [],
   "source": [
    "df['Increase'] = df['Increase'].apply(lambda x: x.split(', '))\n",
    "df['Decrease'] = df['Decrease'].apply(lambda x: x.split(', '))"
   ]
  },
  {
   "cell_type": "code",
   "execution_count": 211,
   "metadata": {},
   "outputs": [
    {
     "data": {
      "text/html": [
       "<div>\n",
       "<style scoped>\n",
       "    .dataframe tbody tr th:only-of-type {\n",
       "        vertical-align: middle;\n",
       "    }\n",
       "\n",
       "    .dataframe tbody tr th {\n",
       "        vertical-align: top;\n",
       "    }\n",
       "\n",
       "    .dataframe thead th {\n",
       "        text-align: right;\n",
       "    }\n",
       "</style>\n",
       "<table border=\"1\" class=\"dataframe\">\n",
       "  <thead>\n",
       "    <tr style=\"text-align: right;\">\n",
       "      <th></th>\n",
       "      <th>Audience Expectation</th>\n",
       "      <th>Attraction Category</th>\n",
       "      <th>Sub category</th>\n",
       "      <th>Increase</th>\n",
       "      <th>Decrease</th>\n",
       "      <th>Note</th>\n",
       "    </tr>\n",
       "  </thead>\n",
       "  <tbody>\n",
       "    <tr>\n",
       "      <th>39</th>\n",
       "      <td>We need more Indian food stalls to spice thing...</td>\n",
       "      <td>Food</td>\n",
       "      <td>Indian</td>\n",
       "      <td>[Indian]</td>\n",
       "      <td>[]</td>\n",
       "      <td>NaN</td>\n",
       "    </tr>\n",
       "    <tr>\n",
       "      <th>22</th>\n",
       "      <td>Too many VIP Lounges and Continental food stal...</td>\n",
       "      <td>Food, Lounge</td>\n",
       "      <td>VIP, Chinese</td>\n",
       "      <td>[]</td>\n",
       "      <td>[VIP, Continental]</td>\n",
       "      <td>Modify</td>\n",
       "    </tr>\n",
       "    <tr>\n",
       "      <th>35</th>\n",
       "      <td>Add more Lebanese food offerings.</td>\n",
       "      <td>Food</td>\n",
       "      <td>Lebanese</td>\n",
       "      <td>[Lebanese]</td>\n",
       "      <td>[]</td>\n",
       "      <td>Modify</td>\n",
       "    </tr>\n",
       "    <tr>\n",
       "      <th>0</th>\n",
       "      <td>The crowd needs more alcohol stalls to keep th...</td>\n",
       "      <td>Beverage</td>\n",
       "      <td>Alcohol</td>\n",
       "      <td>[Alcohol]</td>\n",
       "      <td>[]</td>\n",
       "      <td>NaN</td>\n",
       "    </tr>\n",
       "    <tr>\n",
       "      <th>37</th>\n",
       "      <td>Lebanese food is not getting much attention. L...</td>\n",
       "      <td>Food</td>\n",
       "      <td>Lebanese</td>\n",
       "      <td>[]</td>\n",
       "      <td>[Lebanese]</td>\n",
       "      <td>NaN</td>\n",
       "    </tr>\n",
       "  </tbody>\n",
       "</table>\n",
       "</div>"
      ],
      "text/plain": [
       "                                 Audience Expectation Attraction Category  \\\n",
       "39  We need more Indian food stalls to spice thing...                Food   \n",
       "22  Too many VIP Lounges and Continental food stal...        Food, Lounge   \n",
       "35                  Add more Lebanese food offerings.                Food   \n",
       "0   The crowd needs more alcohol stalls to keep th...            Beverage   \n",
       "37  Lebanese food is not getting much attention. L...                Food   \n",
       "\n",
       "    Sub category    Increase            Decrease    Note  \n",
       "39        Indian    [Indian]                  []     NaN  \n",
       "22  VIP, Chinese          []  [VIP, Continental]  Modify  \n",
       "35      Lebanese  [Lebanese]                  []  Modify  \n",
       "0        Alcohol   [Alcohol]                  []     NaN  \n",
       "37      Lebanese          []          [Lebanese]     NaN  "
      ]
     },
     "execution_count": 211,
     "metadata": {},
     "output_type": "execute_result"
    }
   ],
   "source": [
    "df.sample(5)"
   ]
  },
  {
   "cell_type": "markdown",
   "metadata": {},
   "source": [
    "### One hot encoding"
   ]
  },
  {
   "cell_type": "code",
   "execution_count": 212,
   "metadata": {},
   "outputs": [],
   "source": [
    "from sklearn.preprocessing import OneHotEncoder\n",
    "from sklearn.preprocessing import MultiLabelBinarizer"
   ]
  },
  {
   "cell_type": "code",
   "execution_count": 213,
   "metadata": {},
   "outputs": [],
   "source": [
    "# Initialize the MultiLabelBinarizer\n",
    "mlb = MultiLabelBinarizer(classes=categorical_columns)"
   ]
  },
  {
   "cell_type": "code",
   "execution_count": 214,
   "metadata": {},
   "outputs": [
    {
     "name": "stderr",
     "output_type": "stream",
     "text": [
      "/home/sristi/.local/lib/python3.8/site-packages/sklearn/preprocessing/_label.py:994: UserWarning: unknown class(es) [''] will be ignored\n",
      "  warnings.warn('unknown class(es) {0} will be ignored'\n"
     ]
    }
   ],
   "source": [
    "# Transforming the data for Increase column\n",
    "encoded_data = mlb.fit_transform(df['Increase'])"
   ]
  },
  {
   "cell_type": "code",
   "execution_count": 215,
   "metadata": {},
   "outputs": [],
   "source": [
    "one_hot_df_increase = pd.DataFrame(encoded_data, columns = categorical_columns)"
   ]
  },
  {
   "cell_type": "code",
   "execution_count": 216,
   "metadata": {},
   "outputs": [
    {
     "data": {
      "text/plain": [
       "array(['Continental', 'Lebanese', 'Indian', 'Chinese', 'Alcohol',\n",
       "       'Soft drinks', 'Clothes', 'Action figure', 'VIP', 'Gold',\n",
       "       'Premium'], dtype=object)"
      ]
     },
     "execution_count": 216,
     "metadata": {},
     "output_type": "execute_result"
    }
   ],
   "source": [
    "mlb.classes_"
   ]
  },
  {
   "cell_type": "code",
   "execution_count": 217,
   "metadata": {},
   "outputs": [],
   "source": [
    "# Step 5: Merge with the original dataframe\n",
    "# df_final = pd.concat([df, one_hot_df], axis=1)\n",
    "# df_final.sample(5)"
   ]
  },
  {
   "cell_type": "code",
   "execution_count": 218,
   "metadata": {},
   "outputs": [],
   "source": [
    "# Transforming the data for Decrease column\n",
    "encoded_data = mlb.transform(df['Decrease'])"
   ]
  },
  {
   "cell_type": "code",
   "execution_count": 219,
   "metadata": {},
   "outputs": [],
   "source": [
    "one_hot_df_decrease = pd.DataFrame(encoded_data, columns = categorical_columns)"
   ]
  },
  {
   "cell_type": "markdown",
   "metadata": {},
   "source": [
    "### Analysis"
   ]
  },
  {
   "cell_type": "code",
   "execution_count": 220,
   "metadata": {},
   "outputs": [],
   "source": [
    "import numpy as np\n",
    "import seaborn as sns\n",
    "import matplotlib.pyplot as plt"
   ]
  },
  {
   "cell_type": "markdown",
   "metadata": {},
   "source": [
    "#### Barplot for individual category increase"
   ]
  },
  {
   "cell_type": "code",
   "execution_count": 221,
   "metadata": {},
   "outputs": [],
   "source": [
    "# Step 1: Calculate the count of '1's in each column (each music category)\n",
    "category_counts = one_hot_df_increase.sum(axis=0).reset_index()  # Reset index to convert it to a DataFrame\n",
    "category_counts.columns = ['Music Category', 'Count']  # Rename columns"
   ]
  },
  {
   "cell_type": "code",
   "execution_count": 222,
   "metadata": {},
   "outputs": [
    {
     "data": {
      "image/png": "[encoded data removed]",
      "text/plain": [
       "<Figure size 720x432 with 1 Axes>"
      ]
     },
     "metadata": {
      "needs_background": "light"
     },
     "output_type": "display_data"
    }
   ],
   "source": [
    "# Step 2: Plot the category counts as a bar graph\n",
    "plt.figure(figsize=(10, 6))\n",
    "sns.barplot(x='Music Category', y='Count', data=category_counts, palette='Blues_d')\n",
    "plt.title('Count of Categories in Dataset')\n",
    "plt.xlabel('Category')\n",
    "plt.ylabel('Count')\n",
    "plt.show()"
   ]
  },
  {
   "cell_type": "markdown",
   "metadata": {},
   "source": [
    "#### Barplot for combinations of categories in increase"
   ]
  },
  {
   "cell_type": "code",
   "execution_count": 224,
   "metadata": {},
   "outputs": [],
   "source": [
    "# Step 1: Identify unique category combinations (e.g., by creating a string from the row)\n",
    "one_hot_df_increase['combination'] = one_hot_df_increase.apply(lambda row: '_'.join(row.index[row == 1]), axis=1)"
   ]
  },
  {
   "cell_type": "code",
   "execution_count": 225,
   "metadata": {},
   "outputs": [],
   "source": [
    "# Step 2: Count occurrences of each combination\n",
    "combination_counts = one_hot_df_increase['combination'].value_counts().reset_index()\n",
    "combination_counts.columns = ['combination', 'count']"
   ]
  },
  {
   "cell_type": "code",
   "execution_count": 192,
   "metadata": {},
   "outputs": [
    {
     "data": {
      "image/png": "[encoded data removed]",
      "text/plain": [
       "<Figure size 720x432 with 1 Axes>"
      ]
     },
     "metadata": {
      "needs_background": "light"
     },
     "output_type": "display_data"
    }
   ],
   "source": [
    "# Step 3: Visualize the most common combinations in case of increase\n",
    "plt.figure(figsize=(10, 6))\n",
    "sns.barplot(x='count', y='combination', data=combination_counts, palette='Blues_d')\n",
    "plt.title('Music Category Combinations in Dataset')\n",
    "plt.xlabel('Count')\n",
    "plt.ylabel('Category Combination')\n",
    "plt.show()"
   ]
  },
  {
   "cell_type": "markdown",
   "metadata": {},
   "source": [
    "#### Barplot for individual category decrease"
   ]
  },
  {
   "cell_type": "code",
   "execution_count": 226,
   "metadata": {},
   "outputs": [],
   "source": [
    "# Step 1: Calculate the count of '1's in each column (each music category)\n",
    "category_counts = one_hot_df_decrease.sum(axis=0).reset_index()  # Reset index to convert it to a DataFrame\n",
    "category_counts.columns = ['Music Category', 'Count']  # Rename columns"
   ]
  },
  {
   "cell_type": "code",
   "execution_count": 227,
   "metadata": {},
   "outputs": [
    {
     "data": {
      "image/png": "[encoded data removed]",
      "text/plain": [
       "<Figure size 720x432 with 1 Axes>"
      ]
     },
     "metadata": {
      "needs_background": "light"
     },
     "output_type": "display_data"
    }
   ],
   "source": [
    "# Step 2: Plot the category counts as a bar graph\n",
    "plt.figure(figsize=(10, 6))\n",
    "sns.barplot(x='Music Category', y='Count', data=category_counts, palette='Blues_d')\n",
    "plt.title('Count of Categories in Dataset')\n",
    "plt.xlabel('Category')\n",
    "plt.ylabel('Count')\n",
    "plt.show()"
   ]
  },
  {
   "cell_type": "markdown",
   "metadata": {},
   "source": [
    "#### Barplot for combinations of categories in decrease"
   ]
  },
  {
   "cell_type": "code",
   "execution_count": 228,
   "metadata": {},
   "outputs": [],
   "source": [
    "# Step 1: Identify unique category combinations (e.g., by creating a string from the row)\n",
    "one_hot_df_decrease['combination'] = one_hot_df_decrease.apply(lambda row: '_'.join(row.index[row == 1]), axis=1)"
   ]
  },
  {
   "cell_type": "code",
   "execution_count": 229,
   "metadata": {},
   "outputs": [],
   "source": [
    "# Step 2: Count occurrences of each combination\n",
    "combination_counts = one_hot_df_decrease['combination'].value_counts().reset_index()\n",
    "combination_counts.columns = ['combination', 'count']"
   ]
  },
  {
   "cell_type": "code",
   "execution_count": 230,
   "metadata": {},
   "outputs": [
    {
     "data": {
      "image/png": "[encoded data removed]",
      "text/plain": [
       "<Figure size 720x432 with 1 Axes>"
      ]
     },
     "metadata": {
      "needs_background": "light"
     },
     "output_type": "display_data"
    }
   ],
   "source": [
    "# Step 3: Visualize the most common combinations in case of increase\n",
    "plt.figure(figsize=(10, 6))\n",
    "sns.barplot(x='count', y='combination', data=combination_counts, palette='Blues_d')\n",
    "plt.title('Music Category Combinations in Dataset')\n",
    "plt.xlabel('Count')\n",
    "plt.ylabel('Category Combination')\n",
    "plt.show()"
   ]
  },
  {
   "cell_type": "code",
   "execution_count": 175,
   "metadata": {},
   "outputs": [
    {
     "data": {
      "text/html": [
       "<div>\n",
       "<style scoped>\n",
       "    .dataframe tbody tr th:only-of-type {\n",
       "        vertical-align: middle;\n",
       "    }\n",
       "\n",
       "    .dataframe tbody tr th {\n",
       "        vertical-align: top;\n",
       "    }\n",
       "\n",
       "    .dataframe thead th {\n",
       "        text-align: right;\n",
       "    }\n",
       "</style>\n",
       "<table border=\"1\" class=\"dataframe\">\n",
       "  <thead>\n",
       "    <tr style=\"text-align: right;\">\n",
       "      <th></th>\n",
       "      <th>Music Category</th>\n",
       "      <th>Count</th>\n",
       "    </tr>\n",
       "  </thead>\n",
       "  <tbody>\n",
       "    <tr>\n",
       "      <th>0</th>\n",
       "      <td>Continental</td>\n",
       "      <td>7</td>\n",
       "    </tr>\n",
       "    <tr>\n",
       "      <th>1</th>\n",
       "      <td>Lebanese</td>\n",
       "      <td>5</td>\n",
       "    </tr>\n",
       "    <tr>\n",
       "      <th>2</th>\n",
       "      <td>Indian</td>\n",
       "      <td>4</td>\n",
       "    </tr>\n",
       "    <tr>\n",
       "      <th>3</th>\n",
       "      <td>Chinese</td>\n",
       "      <td>4</td>\n",
       "    </tr>\n",
       "    <tr>\n",
       "      <th>4</th>\n",
       "      <td>Alcohol</td>\n",
       "      <td>5</td>\n",
       "    </tr>\n",
       "    <tr>\n",
       "      <th>5</th>\n",
       "      <td>Soft drinks</td>\n",
       "      <td>4</td>\n",
       "    </tr>\n",
       "    <tr>\n",
       "      <th>6</th>\n",
       "      <td>Clothes</td>\n",
       "      <td>4</td>\n",
       "    </tr>\n",
       "    <tr>\n",
       "      <th>7</th>\n",
       "      <td>Action figure</td>\n",
       "      <td>4</td>\n",
       "    </tr>\n",
       "    <tr>\n",
       "      <th>8</th>\n",
       "      <td>VIP</td>\n",
       "      <td>7</td>\n",
       "    </tr>\n",
       "    <tr>\n",
       "      <th>9</th>\n",
       "      <td>Gold</td>\n",
       "      <td>5</td>\n",
       "    </tr>\n",
       "    <tr>\n",
       "      <th>10</th>\n",
       "      <td>Premium</td>\n",
       "      <td>6</td>\n",
       "    </tr>\n",
       "    <tr>\n",
       "      <th>11</th>\n",
       "      <td>combination</td>\n",
       "      <td>AlcoholAction figureAction figureClothesVIP_Go...</td>\n",
       "    </tr>\n",
       "  </tbody>\n",
       "</table>\n",
       "</div>"
      ],
      "text/plain": [
       "   Music Category                                              Count\n",
       "0     Continental                                                  7\n",
       "1        Lebanese                                                  5\n",
       "2          Indian                                                  4\n",
       "3         Chinese                                                  4\n",
       "4         Alcohol                                                  5\n",
       "5     Soft drinks                                                  4\n",
       "6         Clothes                                                  4\n",
       "7   Action figure                                                  4\n",
       "8             VIP                                                  7\n",
       "9            Gold                                                  5\n",
       "10        Premium                                                  6\n",
       "11    combination  AlcoholAction figureAction figureClothesVIP_Go..."
      ]
     },
     "execution_count": 175,
     "metadata": {},
     "output_type": "execute_result"
    }
   ],
   "source": [
    "category_counts"
   ]
  },
  {
   "cell_type": "code",
   "execution_count": null,
   "metadata": {},
   "outputs": [],
   "source": []
  },
  {
   "cell_type": "code",
   "execution_count": null,
   "metadata": {},
   "outputs": [],
   "source": []
  },
  {
   "cell_type": "code",
   "execution_count": null,
   "metadata": {},
   "outputs": [],
   "source": []
  },
  {
   "cell_type": "code",
   "execution_count": null,
   "metadata": {},
   "outputs": [],
   "source": []
  },
  {
   "cell_type": "code",
   "execution_count": null,
   "metadata": {},
   "outputs": [],
   "source": []
  }
 ],
 "metadata": {
  "kernelspec": {
   "display_name": "Python 3",
   "language": "python",
   "name": "python3"
  },
  "language_info": {
   "codemirror_mode": {
    "name": "ipython",
    "version": 3
   },
   "file_extension": ".py",
   "mimetype": "text/x-python",
   "name": "python",
   "nbconvert_exporter": "python",
   "pygments_lexer": "ipython3",
   "version": "3.8.10"
  }
 },
 "nbformat": 4,
 "nbformat_minor": 4
}
